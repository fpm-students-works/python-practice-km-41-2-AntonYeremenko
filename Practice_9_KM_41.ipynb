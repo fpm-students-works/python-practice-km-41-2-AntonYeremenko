{
  "cells": [
    {
      "cell_type": "markdown",
      "metadata": {
        "id": "FMqboNwO4rVs"
      },
      "source": [
        "# **Курс \"Програмування на мові Python\"**"
      ]
    },
    {
      "cell_type": "markdown",
      "metadata": {
        "id": "A2T6MigL5Z06"
      },
      "source": [
        "## **Практичне зайняття №9**\n",
        "\n",
        "### Тема: \"Робота з функціями. Локальні та глобальні змінні\""
      ]
    },
    {
      "cell_type": "markdown",
      "metadata": {
        "id": "cfCdgK2zXm7e"
      },
      "source": [
        "### **Завдання 1 (3 бали)**\n",
        "\n",
        "**Підрахувати визначник матриці, використовуючи правило перестановок.**\n",
        "\n",
        "Функція random_matrix() призначена для створення квадратної матриці випадкових чисел. Її змінювати непотрібно.\n",
        "\n",
        "Приклад використання методу permutations() для створення списку перестановок також подається у комірці з кодом.\n",
        "\n",
        "1) Створити 3 функції: функцію створення списку перестановок, функцію підрахунку добутків та функцію підрахунку загальної суми.\n",
        "\n",
        "2) Кожна функція має супроводжуватись рядком документації, що буде коротко описувати її призначення.\n",
        "\n",
        "3) Розмірність квадратної матриці має вводитись користувачем з клавіатури. Підрахунки виконувати лише в тому разі, якщо користувач введе ціле додатне число.\n",
        "\n",
        "4) Загальний результат повинен підраховуватись за допомогою композиції функцій.\n",
        "\n",
        "За бажанням можна перевірити правильність роботи програми за допомогою функції np.linalg.det(a)."
      ]
    },
    {
      "cell_type": "code",
      "execution_count": 1,
      "metadata": {
        "id": "ifNX2M7LXm7f"
      },
      "outputs": [
        {
          "name": "stdout",
          "output_type": "stream",
          "text": [
            "[[9 4 5]\n",
            " [5 6 7]\n",
            " [0 5 5]]\n",
            "det = -20\n"
          ]
        }
      ],
      "source": [
        "import numpy as np\n",
        "import itertools\n",
        "checker = True\n",
        "while checker == True:\n",
        "    dim = input('input dimensions: ')\n",
        "    try:\n",
        "        dim = int(dim)\n",
        "        if dim < 2 or dim > 8:\n",
        "            raise ValueError\n",
        "        checker = False\n",
        "    except:\n",
        "        checker = True\n",
        "def random_matrix(dim):\n",
        "    \"\"\"\n",
        "    The function generates dim x dim array of integers\n",
        "    between 0 and 10.\n",
        "    \"\"\"\n",
        "    matrix = np.random.randint(10, size = (dim, dim))\n",
        "    return matrix\n",
        "def permutations(dim):\n",
        "    '''\n",
        "    This function permutates values by matrix dimensions set by the user\n",
        "    '''\n",
        "    txtdim = ''\n",
        "    for i in range(1,dim+1):\n",
        "        txtdim += str(i)\n",
        "    t = list(itertools.permutations(txtdim, len(txtdim)))\n",
        "    return t\n",
        "matrix = random_matrix(dim)\n",
        "def det(dim):\n",
        "    '''\n",
        "    This function finds a determinant for a matrix\n",
        "    '''\n",
        "    sum = 0\n",
        "    for i0 in range(0,len(permutations(dim))):\n",
        "        product = 1\n",
        "        if ( int(permutations(dim)[i0][1]) == int(permutations(dim)[i0][0]) + 1 ) or ( int(permutations(dim)[i0][1]) == 1 and int(permutations(dim)[i0][0]) == int(dim)):\n",
        "            for i in range(0,dim):\n",
        "                mantissasign = 1\n",
        "                product0 = matrix[i][int(permutations(dim)[i0][i])-1]\n",
        "                product *= product0\n",
        "    #            print(product0,end=\" \")\n",
        "        else:\n",
        "            for i in range(0,dim):\n",
        "                mantissasign = -1\n",
        "                product0 = matrix[i][int(permutations(dim)[i0][i])-1]\n",
        "                product *= product0\n",
        "    #            print(product0,end=\" \")\n",
        "    #    print(mantissasign,end=\" \")\n",
        "        sum += product*mantissasign\n",
        "    #    print(product*mantissasign)\n",
        "    return sum\n",
        "print(matrix)\n",
        "print('det =',det(dim))\n",
        "#print(permutations(dim))\n",
        "#print(random_matrix.__doc__)"
      ]
    }
  ],
  "metadata": {
    "colab": {
      "collapsed_sections": [],
      "name": "Practice_7_KM-01_.ipynb",
      "provenance": []
    },
    "kernelspec": {
      "display_name": "Python 3.10.2 64-bit",
      "language": "python",
      "name": "python3"
    },
    "language_info": {
      "codemirror_mode": {
        "name": "ipython",
        "version": 3
      },
      "file_extension": ".py",
      "mimetype": "text/x-python",
      "name": "python",
      "nbconvert_exporter": "python",
      "pygments_lexer": "ipython3",
      "version": "3.12.0"
    },
    "vscode": {
      "interpreter": {
        "hash": "26de051ba29f2982a8de78e945f0abaf191376122a1563185a90213a26c5da77"
      }
    }
  },
  "nbformat": 4,
  "nbformat_minor": 0
}
