{
  "cells": [
    {
      "cell_type": "markdown",
      "metadata": {
        "id": "FMqboNwO4rVs"
      },
      "source": [
        "# **Курс \"Програмування на мові Python\"**"
      ]
    },
    {
      "cell_type": "markdown",
      "metadata": {
        "id": "A2T6MigL5Z06"
      },
      "source": [
        "## **Практичне зайняття №14**\n",
        "\n",
        "### Тема: \"Робота зі спеціальними форматами файлів\""
      ]
    },
    {
      "cell_type": "markdown",
      "metadata": {
        "id": "A34oz70eU463"
      },
      "source": [
        "### **Завдання 1 (1,5 бали)**\n",
        "\n",
        "Створіть CSV-файл, що буде містити від 5 до 10 пісень (творів) вашого улюбленого музиканта. Назва файлу - ім'я музиканта (композитора) або назва гурту.\n",
        "\n",
        "1. Обов'язково додайте до файлу рядок з назвами двох колонок (Song, Year) або (Composition, Year).\n",
        "\n",
        "2. Після запису файлу роздрукуйте назву файлу та усі наявні у файлі рядки (включно із заголовками).\n",
        "\n",
        "3. Для запису та зчитування рядків скористайтесь функціями csv.DictWriter() та csv.DictReader()."
      ]
    },
    {
      "cell_type": "code",
      "execution_count": 23,
      "metadata": {
        "id": "MEJIrG1GU463"
      },
      "outputs": [
        {
          "name": "stdout",
          "output_type": "stream",
          "text": [
            "Bones 2022\n",
            "Believer 2017\n",
            "Enemy 2021\n",
            "Radioactive 2012\n",
            "Demons 2012\n"
          ]
        }
      ],
      "source": [
        "import csv\n",
        "songs = ['Bones','Believer','Enemy','Radioactive','Demons']\n",
        "years = [2022,2017,2021,2012,2012]\n",
        "open(\"Imagine Dragons.csv\",'w')\n",
        "csv.DictWriter(open('Imagine Dragons.csv','a'),['song','year']).writerow({'song': 'songs', 'year': 'years'})\n",
        "for i in range(0,5):\n",
        "    csv.DictWriter(open('Imagine Dragons.csv','a'),['song','year']).writerow({'song': songs[i], 'year': years[i]})\n",
        "\n",
        "rows = csv.DictReader(open(\"Imagine Dragons.csv\"))\n",
        "for row in rows:\n",
        "\n",
        "    print(row['songs'],row['years'])"
      ]
    },
    {
      "cell_type": "markdown",
      "metadata": {
        "id": "Jb-eSBsWU464"
      },
      "source": [
        "### **Завдання 2 (1,5 бали)**\n",
        "\n",
        "COCO Dataset - набір фотографій та анотацій до них. Його дуже часто використовують для тренування класифікаторів, призначених для розпізнавання об'єктів та визначення ключових точок на зображеннях.\n",
        "\n",
        "Завантажте файли з описом фотографій COCO Dataset за посиланням: [COCO Dataset](http://images.cocodataset.org/annotations/image_info_test2017.zip).\n",
        "\n",
        "Відкрийте файл image_info_test-dev2017.json. Інформація про фотографії з бази COCO міститься у полі \"images\". Інформація про категорії, на які розділені всі фотографії, міститься у полі \"categories\".\n",
        "\n",
        "1. Визначте кількість фотографій, інформацію про які можна знайти у цьому файлі (кількість елементів, що відповідають ключу \"images\").\n",
        "\n",
        "2. Визначте кількість наявних категорій (кількість елементів, що відповідають ключу \"categories\").\n",
        "\n",
        "3. Виведіть посилання на фотографію 000000000001.jpg (\"coco_url\"). Також виведіть висоту цієї фотографії (\"height\"), ширину (\"width\") та її ідентифікатор (\"id\").\n",
        "\n",
        "4. Виведіть назву фотографії з набільшим номером.\n",
        "\n",
        "Опис структури JSON-файлу для набору фотографій COCO можна знайти за посиланням: [Data format](https://cocodataset.org/#format-data).\n",
        "\n",
        "Щоб перевірити правильність результатів, у VS Code встановіть розширення JSON та відкрийте файл image_info_test-dev2017.json. Розширення автоматично визначає кількість елементів у кожному полі."
      ]
    },
    {
      "cell_type": "code",
      "execution_count": 64,
      "metadata": {},
      "outputs": [
        {
          "name": "stdout",
          "output_type": "stream",
          "text": [
            "The amount of images is 20288\n",
            "The amount of categories is 80\n",
            "The coco_url is http://images.cocodataset.org/test2017/000000000001.jpg\n",
            "The height is : 480,\n",
            "The width is : 640,\n",
            "The id is : 1\n"
          ]
        }
      ],
      "source": [
        "import os\n",
        "import re\n",
        "text = open(r'image_info_test2017\\annotations\\image_info_test-dev2017.json','r').read()\n",
        "\n",
        "for i in range(0,len(text)-6):\n",
        "    if text[i:i+6] == 'images':\n",
        "        break\n",
        "for j in range(0,len(text)-8):\n",
        "    if text[j:j+8] == 'licenses':\n",
        "        break\n",
        "open('helpfile.py','w').write(text[i:i+6]+'='+text[i+8:j-2])\n",
        "from helpfile import images\n",
        "print('The amount of images is',len(images))\n",
        "os.remove('helpfile.py')\n",
        "\n",
        "for i in range(0,len(text)-10):\n",
        "    if text[i:i+10] == 'categories':\n",
        "        break\n",
        "open('helpfile1.py','w').write(text[i:i+10]+'='+text[i+12:len(text)-1])\n",
        "from helpfile1 import categories\n",
        "print('The amount of categories is',len(categories))\n",
        "os.remove('helpfile1.py')\n",
        "\n",
        "for i in range(0,len(text)-16):\n",
        "    if text[i:i+16] == '000000000001.jpg':\n",
        "        break\n",
        "thatjpg0 = text[i+16+3:i+200]\n",
        "thatjpg = ''\n",
        "for el in thatjpg0:\n",
        "    if el == '}':\n",
        "        break\n",
        "    thatjpg += el\n",
        "print('The coco_url is',thatjpg.split('\"')[2])\n",
        "print('The height is',thatjpg.split('\"')[5])\n",
        "print('The width is',thatjpg.split('\"')[7])\n",
        "print('The id is',thatjpg.split('\"')[13])"
      ]
    }
  ],
  "metadata": {
    "colab": {
      "collapsed_sections": [],
      "name": "Practice_14_KM_01.ipynb",
      "provenance": []
    },
    "kernelspec": {
      "display_name": "Python 3",
      "name": "python3"
    },
    "language_info": {
      "codemirror_mode": {
        "name": "ipython",
        "version": 3
      },
      "file_extension": ".py",
      "mimetype": "text/x-python",
      "name": "python",
      "nbconvert_exporter": "python",
      "pygments_lexer": "ipython3",
      "version": "3.12.0"
    }
  },
  "nbformat": 4,
  "nbformat_minor": 0
}
