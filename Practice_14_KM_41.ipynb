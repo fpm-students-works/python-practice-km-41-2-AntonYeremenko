{
  "cells": [
    {
      "cell_type": "markdown",
      "metadata": {
        "id": "FMqboNwO4rVs"
      },
      "source": [
        "# **Курс \"Програмування на мові Python\"**"
      ]
    },
    {
      "cell_type": "markdown",
      "metadata": {
        "id": "A2T6MigL5Z06"
      },
      "source": [
        "## **Практичне зайняття №16**\n",
        "\n",
        "### Тема: \"Декоратори\""
      ]
    },
    {
      "cell_type": "markdown",
      "metadata": {},
      "source": [
        "### **Завдання 1 (3 бали)**\n",
        "\n",
        "Реалізуйте підрахунок площі трикутника з використанням декоратора, який перевірятиме можливість побудови трикутника з трьох введених користувачем сторін.\n",
        "\n",
        "1. Напишіть функцію area_calculation, яка підраховуватиме площу трикутника за трьома сторонами. Для підрахунку можете скористатись формулою Герона.\n",
        "\n",
        "2. Напишіть функцію check, яка перевірятиме правильність введених користувачем значень (значення мають бути додатними числами, не обов'язково цілими).\n",
        "\n",
        "3. Створіть декоратор triangle_ineq, який перевірятиме виконання нерівності трикутрика для трьох заданих користувачем сторін. Навісьте декоратор triangle_ineq на функція area_calculation та перевірте правильність роботи програми."
      ]
    },
    {
      "cell_type": "code",
      "execution_count": 52,
      "metadata": {},
      "outputs": [
        {
          "name": "stdout",
          "output_type": "stream",
          "text": [
            "All sides are correct!\n",
            "6.0\n"
          ]
        }
      ],
      "source": [
        "def triangle_ineq(func):\n",
        "    if (a < b + c) and (b < a + c) and (c < a + b):\n",
        "        print('All sides are correct!')\n",
        "    else:\n",
        "        print('A triangle with these sides doesnt exist.')\n",
        "    return func\n",
        "\n",
        "def check(text):\n",
        "    while True:\n",
        "        inp = input(text)\n",
        "        try:\n",
        "            inp = float(inp)\n",
        "            if inp <= 0:\n",
        "                raise NameError\n",
        "            break\n",
        "        except ValueError:\n",
        "            print('Please input a number')\n",
        "        except NameError:\n",
        "            print('Please input a positive number')\n",
        "    return inp\n",
        "\n",
        "a = check('Input the first side length: ')\n",
        "b = check('Input the second side length: ')\n",
        "c = check('Input the third side length: ')\n",
        "\n",
        "@triangle_ineq\n",
        "def area_calculation(a,b,c):\n",
        "    p = (a+b+c)/2\n",
        "    area = (p*(p-a)*(p-b)*(p-c))**.5\n",
        "    return area\n",
        "\n",
        "print(area_calculation(a,b,c))"
      ]
    }
  ],
  "metadata": {
    "colab": {
      "collapsed_sections": [],
      "name": "Practice_10-11_KM_01_.ipynb",
      "provenance": []
    },
    "kernelspec": {
      "display_name": "Python 3",
      "name": "python3"
    },
    "language_info": {
      "codemirror_mode": {
        "name": "ipython",
        "version": 3
      },
      "file_extension": ".py",
      "mimetype": "text/x-python",
      "name": "python",
      "nbconvert_exporter": "python",
      "pygments_lexer": "ipython3",
      "version": "3.12.0"
    }
  },
  "nbformat": 4,
  "nbformat_minor": 0
}
