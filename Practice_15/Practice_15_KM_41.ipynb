{
  "cells": [
    {
      "cell_type": "markdown",
      "metadata": {
        "id": "FMqboNwO4rVs"
      },
      "source": [
        "# **Курс \"Програмування на мові Python\"**"
      ]
    },
    {
      "cell_type": "markdown",
      "metadata": {
        "id": "A2T6MigL5Z06"
      },
      "source": [
        "## **Практичне зайняття №13**\n",
        "\n",
        "### Тема: \"Робота з файлами\""
      ]
    },
    {
      "cell_type": "markdown",
      "metadata": {
        "id": "cfCdgK2zXm7e"
      },
      "source": [
        "### **Завдання 1 (1,5 бали)**\n",
        "\n",
        "У 1939 році друком вийшов роман американського письменика Ернеста Вінсента Райта \"Ґетсбі\". Особливу увагу публіки він здобув через те, що письменник жодного разу не використав у романі літеру \"e\" (роман складається з більше ніж 50,000 слів), яка є найбільш вживаною літерою в англійській мові.\n",
        "\n",
        "Порахуйте кількість входжень кожної літери у текст роману. Виведіть список літер англійського алфавіту, а також інформацію про те, скільки відсотків від усіх літер тексту складає кожна літера алфавіту.\n",
        "\n",
        "Зауваження:\n",
        "\n",
        "1. Програма має ігнорувати будь-які символи, окрім літер.\n",
        "\n",
        "2. Переведіть усі літери у верхній або у нижній регістр.\n",
        "\n",
        "3. Під час виведення відсортуйте літери у порядку зменшення їхнього відсотка. Літера \"e\" має стояти на останньому місці у цьому списку (хоча кілька літер e там все ж таки зустрічається).\n",
        "\n",
        "4. Виведіть перші 5 та останні 5 літер відсортованого списку разом з відсотковими значеннями, що їм відповідають. Відсотки округліть до тисячних."
      ]
    },
    {
      "cell_type": "code",
      "execution_count": 14,
      "metadata": {},
      "outputs": [
        {
          "name": "stdout",
          "output_type": "stream",
          "text": [
            "a is in 10.952% of the text\n",
            "o is in 10.419% of the text\n",
            "i is in 8.825% of the text\n",
            "n is in 8.597% of the text\n",
            "t is in 8.494% of the text\n",
            "j is in 0.23% of the text\n",
            "z is in 0.107% of the text\n",
            "x is in 0.079% of the text\n",
            "q is in 0.051% of the text\n",
            "e is in 0.002% of the text\n"
          ]
        }
      ],
      "source": [
        "import os\n",
        "text = open(os.getcwd()+r'\\gadsby.txt','r',encoding='utf-8').read().lower()\n",
        "lettersdict = {}\n",
        "for el in text:\n",
        "    if el.isalpha():\n",
        "        if el not in lettersdict:\n",
        "            lettersdict.update({el: 1})\n",
        "        else:\n",
        "            lettersdict.update({el: lettersdict.get(el)+1})\n",
        "sortedlist = []\n",
        "letters = 0\n",
        "for el in lettersdict.items():\n",
        "    sortedlist.append([el[1],el[0]])\n",
        "    letters += el[1]\n",
        "sortedlist = list(reversed(sorted(sortedlist)))\n",
        "for i in range(0,5):\n",
        "    print(f'{sortedlist[i][1]} is in {round(sortedlist[i][0]/letters*100,3)}% of the text')\n",
        "for i in range(len(sortedlist)-5,len(sortedlist)):\n",
        "    print(f'{sortedlist[i][1]} is in {round(sortedlist[i][0]/letters*100,3)}% of the text')"
      ]
    },
    {
      "cell_type": "markdown",
      "metadata": {
        "id": "A34oz70eU463"
      },
      "source": [
        "### **Завдання 2 (1,5 бали)**\n",
        "\n",
        "Архів archive.zip містить 140 txt-файлів, в яких збережено інфорамцію про те, якими іменами називали дітей у США в період з 1880 по 2019 рік.\n",
        "\n",
        "Структура рядка кожного файлу така:\n",
        "\n",
        "*name,sex,number_of_occurrences*\n",
        "\n",
        "Напишіть програму, яка зчитуватиме кожен файл та визначатиме окремо чоловічі, окремо жіночі імена, що були найпопулярнішими хоча б в один з років. Далі програма повинна підраховувати, скільки разів кожне з цих імен ставало найпопулярнишим, та виводити ранжовані списки чоловічіх та жіночих імен у вигляді:\n",
        "\n",
        "```\n",
        "Michael 44\n",
        "John 44\n",
        "Robert 17\n",
        "...\n",
        "\n",
        "Mary 76\n",
        "Jennifer 15\n",
        "Emily 12\n",
        "...\n",
        "```"
      ]
    },
    {
      "cell_type": "code",
      "execution_count": 30,
      "metadata": {},
      "outputs": [
        {
          "name": "stdout",
          "output_type": "stream",
          "text": [
            "Males:\n",
            "Michael 44\n",
            "John 44\n",
            "Robert 17\n",
            "Jacob 14\n",
            "James 13\n",
            "Noah 4\n",
            "Liam 3\n",
            "David 1\n",
            "\n",
            "Females:\n",
            "Mary 76\n",
            "Jennifer 15\n",
            "Emily 12\n",
            "Jessica 9\n",
            "Lisa 8\n",
            "Linda 6\n",
            "Emma 6\n",
            "Sophia 3\n",
            "Isabella 2\n",
            "Ashley 2\n",
            "Olivia 1\n"
          ]
        }
      ],
      "source": [
        "import os\n",
        "\n",
        "path = os.getcwd() + r'\\archive'\n",
        "\n",
        "males = {}\n",
        "females = {}\n",
        "for i in range(1880,2019+1):\n",
        "    lines = open(path+fr'\\yob{i}.txt','r').readlines()\n",
        "    m = 0\n",
        "    f = 0\n",
        "    for line in lines:\n",
        "        if m == 1 and f == 1:\n",
        "            break\n",
        "        else:\n",
        "            comma = len(line.split(',')[0])\n",
        "            if line[comma+1] == 'M' and m == 0:\n",
        "                m = 1\n",
        "                if line[0:comma] not in males:\n",
        "                    males.update({line[0:comma]: 1})\n",
        "                else:\n",
        "                    males.update({line[0:comma]: males.get(line[0:comma])+1})\n",
        "            elif line[comma+1] == 'F' and f == 0:\n",
        "                f = 1\n",
        "                if line[0:comma] not in females:\n",
        "                    females.update({line[0:comma]: 1})\n",
        "                else:\n",
        "                    females.update({line[0:comma]: females.get(line[0:comma])+1})\n",
        "malessorted, femalessorted = [], []\n",
        "for el in males.items():\n",
        "    malessorted.append([el[1],el[0]])\n",
        "for el in females.items():\n",
        "    femalessorted.append([el[1],el[0]])\n",
        "malessorted, femalessorted = list(reversed(sorted(malessorted))), list(reversed(sorted(femalessorted)))\n",
        "print('Males:')\n",
        "for el in malessorted:\n",
        "    print(f'{el[1]} {el[0]}')\n",
        "print('\\nFemales:')\n",
        "for el in femalessorted:\n",
        "    print(f'{el[1]} {el[0]}')"
      ]
    }
  ],
  "metadata": {
    "colab": {
      "collapsed_sections": [],
      "name": "Practice_14_KM_01.ipynb",
      "provenance": []
    },
    "kernelspec": {
      "display_name": "Python 3",
      "name": "python3"
    },
    "language_info": {
      "codemirror_mode": {
        "name": "ipython",
        "version": 3
      },
      "file_extension": ".py",
      "mimetype": "text/x-python",
      "name": "python",
      "nbconvert_exporter": "python",
      "pygments_lexer": "ipython3",
      "version": "3.12.0"
    }
  },
  "nbformat": 4,
  "nbformat_minor": 0
}
